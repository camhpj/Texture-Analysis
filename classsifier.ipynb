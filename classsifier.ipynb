{
 "cells": [
  {
   "cell_type": "code",
   "execution_count": null,
   "metadata": {},
   "outputs": [],
   "source": [
    "from scipy.io import loadmat\n",
    "import numpy as np\n",
    "\n",
    "#-Load mat file into numpy array.\n",
    "features = loadmat('MSCM Files/brodatz-features-train.mat')\n",
    "features = np.array(features['brodatzFeatures_train'])\n",
    "\n",
    "#-Training Features for r=1.\n",
    "X_r1_train = []\n",
    "for i in range(13):\n",
    "  for j in range(16):\n",
    "    X_r1_train.append(features[:, i, j, 0])\n",
    "\n",
    "#-Build list of true labels.\n",
    "Y_r1_train = []\n",
    "for i in range(1, 14):\n",
    "  for j in range(16):\n",
    "    Y_r1_train.append(i)\n",
    "\n",
    "print(X_r1_train)"
   ]
  },
  {
   "cell_type": "code",
   "execution_count": 14,
   "metadata": {},
   "outputs": [],
   "source": [
    "#-Load mat file into numpy array.\n",
    "features = loadmat('MSCM Files/brodatz-features-train.mat')\n",
    "features = np.array(features['brodatzFeatures_train'])\n",
    "\n",
    "#-Training Features for r=3.\n",
    "X_r3_train = []\n",
    "for i in range(13):\n",
    "  for j in range(16):\n",
    "    X_r3_train.append(features[:, i, j, 2])\n",
    "\n",
    "#-Build list of true labels.\n",
    "Y_r3_train = []\n",
    "for i in range(1, 14):\n",
    "  for j in range(16):\n",
    "    Y_r3_train.append(i)"
   ]
  },
  {
   "cell_type": "code",
   "execution_count": 22,
   "metadata": {},
   "outputs": [
    {
     "data": {
      "text/plain": [
       "KNeighborsClassifier(n_neighbors=2)"
      ]
     },
     "execution_count": 22,
     "metadata": {},
     "output_type": "execute_result"
    }
   ],
   "source": [
    "from sklearn.neighbors import KNeighborsClassifier\n",
    "from sklearn.metrics import classification_report\n",
    "\n",
    "neighbors = 1\n",
    "\n",
    "#-Create K-Nearest Neighbors classifier.\n",
    "clf = KNeighborsClassifier(n_neighbors=neighbors)\n",
    "\n",
    "#-Fit data to classifier.\n",
    "clf.fit(X_r3_train, Y_r3_train)"
   ]
  },
  {
   "cell_type": "code",
   "execution_count": 3,
   "metadata": {},
   "outputs": [
    {
     "name": "stdout",
     "output_type": "stream",
     "text": [
      "208\n",
      "208\n"
     ]
    }
   ],
   "source": [
    "features = loadmat('MSCM Files/brodatz-features-test-30.mat')\n",
    "features = np.array(features['brodatzFeatures_test_30'])\n",
    "\n",
    "#-Testing Features for r=1 (angle = 30).\n",
    "X_r1_test_30 = []\n",
    "for i in range(13):\n",
    "  for j in range(16):\n",
    "    X_r1_test_30.append(features[:, i, j, 0])\n",
    "\n",
    "print(len(X_r1_test_30))\n",
    "\n",
    "#-Build list of true labels.\n",
    "Y_r1_test = []\n",
    "for i in range(1, 14):\n",
    "  for j in range(16):\n",
    "    Y_r1_test.append(i)\n",
    "\n",
    "print(len(Y_r1_test))"
   ]
  },
  {
   "cell_type": "code",
   "execution_count": 16,
   "metadata": {},
   "outputs": [],
   "source": [
    "features = loadmat('MSCM Files/brodatz-features-test-30.mat')\n",
    "features = np.array(features['brodatzFeatures_test_30'])\n",
    "\n",
    "#-Testing Features for r=3 (angle = 30).\n",
    "X_r3_test_30 = []\n",
    "for i in range(13):\n",
    "  for j in range(16):\n",
    "    X_r3_test_30.append(features[:, i, j, 2])\n",
    "\n",
    "#-Build list of true labels.\n",
    "Y_r3_test = []\n",
    "for i in range(1, 14):\n",
    "  for j in range(16):\n",
    "    Y_r3_test.append(i)\n"
   ]
  },
  {
   "cell_type": "code",
   "execution_count": 23,
   "metadata": {},
   "outputs": [
    {
     "name": "stdout",
     "output_type": "stream",
     "text": [
      "              precision    recall  f1-score   support\n",
      "\n",
      "           1       0.55      0.69      0.61        16\n",
      "           2       0.73      0.50      0.59        16\n",
      "           3       0.72      0.81      0.76        16\n",
      "           4       0.80      1.00      0.89        16\n",
      "           5       0.76      0.81      0.79        16\n",
      "           6       0.85      0.69      0.76        16\n",
      "           7       0.53      0.62      0.57        16\n",
      "           8       0.86      0.75      0.80        16\n",
      "           9       0.64      0.44      0.52        16\n",
      "          10       0.32      0.62      0.43        16\n",
      "          11       1.00      0.94      0.97        16\n",
      "          12       0.40      0.38      0.39        16\n",
      "          13       0.75      0.19      0.30        16\n",
      "\n",
      "    accuracy                           0.65       208\n",
      "   macro avg       0.68      0.65      0.64       208\n",
      "weighted avg       0.68      0.65      0.64       208\n",
      "\n"
     ]
    }
   ],
   "source": [
    "from sklearn.metrics import classification_report\n",
    "\n",
    "pred = clf.predict(X_r3_test_30)\n",
    "print(classification_report(Y_r3_test, pred))"
   ]
  }
 ],
 "metadata": {
  "interpreter": {
   "hash": "dc11a2329c49646b621f6d244584b5576d22d22f228ba50f5e49c7c6c5d009c8"
  },
  "kernelspec": {
   "display_name": "Python 3.9.7 64-bit ('MachineLearning': conda)",
   "name": "python3"
  },
  "language_info": {
   "codemirror_mode": {
    "name": "ipython",
    "version": 3
   },
   "file_extension": ".py",
   "mimetype": "text/x-python",
   "name": "python",
   "nbconvert_exporter": "python",
   "pygments_lexer": "ipython3",
   "version": "3.9.7"
  },
  "orig_nbformat": 4
 },
 "nbformat": 4,
 "nbformat_minor": 2
}
