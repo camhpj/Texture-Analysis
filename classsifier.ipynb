{
 "cells": [
  {
   "cell_type": "code",
   "execution_count": 11,
   "source": [
    "from scipy.io import loadmat\n",
    "import numpy as np\n",
    "\n",
    "#-Load mat file into numpy array.\n",
    "features = loadmat('MSCM Files/brodatz-features-train.mat')\n",
    "features = np.array(features['brodatzFeatures_train'])\n",
    "\n",
    "#-Training Features for r=1.\n",
    "X_r1_train = []\n",
    "for i in range(13):\n",
    "  for j in range(16):\n",
    "    X_r1_train.append(features[:, i, j, 0])\n",
    "\n",
    "print(len(X_r1_train))\n",
    "\n",
    "#-Build list of true labels.\n",
    "Y_r1_train = []\n",
    "for i in range(1, 14):\n",
    "  for j in range(16):\n",
    "    Y_r1_train.append(i)\n",
    "\n",
    "print(len(Y_r1_train))\n"
   ],
   "outputs": [
    {
     "output_type": "stream",
     "name": "stdout",
     "text": [
      "208\n",
      "208\n"
     ]
    }
   ],
   "metadata": {}
  },
  {
   "cell_type": "code",
   "execution_count": 13,
   "source": [
    "from sklearn.neighbors import KNeighborsClassifier\n",
    "from sklearn.metrics import classification_report\n",
    "\n",
    "neighbors = 1\n",
    "\n",
    "#-Create K-Nearest Neighbors classifier.\n",
    "clf = KNeighborsClassifier(n_neighbors=neighbors)\n",
    "\n",
    "#-Fit data to classifier.\n",
    "clf.fit(X_r1_train, Y_r1_train)"
   ],
   "outputs": [
    {
     "output_type": "execute_result",
     "data": {
      "text/plain": [
       "KNeighborsClassifier(n_neighbors=1)"
      ]
     },
     "metadata": {},
     "execution_count": 13
    }
   ],
   "metadata": {}
  },
  {
   "cell_type": "code",
   "execution_count": 14,
   "source": [
    "features = loadmat('MSCM Files/brodatz-features-test-30.mat')\n",
    "features = np.array(features['brodatzFeatures_test_30'])\n",
    "\n",
    "#-Testing Features for r=1 (angle = 30).\n",
    "X_r1_test_30 = []\n",
    "for i in range(13):\n",
    "  for j in range(16):\n",
    "    X_r1_test_30.append(features[:, i, j, 0])\n",
    "\n",
    "print(len(X_r1_test_30))\n",
    "\n",
    "#-Build list of true labels.\n",
    "Y_r1_test = []\n",
    "for i in range(1, 14):\n",
    "  for j in range(16):\n",
    "    Y_r1_test.append(i)\n",
    "\n",
    "print(len(Y_r1_test))"
   ],
   "outputs": [
    {
     "output_type": "stream",
     "name": "stdout",
     "text": [
      "208\n",
      "208\n"
     ]
    }
   ],
   "metadata": {}
  },
  {
   "cell_type": "code",
   "execution_count": 15,
   "source": [
    "from sklearn.metrics import classification_report\n",
    "\n",
    "pred = clf.predict(X_r1_test_30)\n",
    "print(classification_report(Y_r1_test, pred))"
   ],
   "outputs": [
    {
     "output_type": "stream",
     "name": "stdout",
     "text": [
      "              precision    recall  f1-score   support\n",
      "\n",
      "           1       0.47      0.50      0.48        16\n",
      "           2       0.64      0.56      0.60        16\n",
      "           3       0.71      0.62      0.67        16\n",
      "           4       0.67      0.62      0.65        16\n",
      "           5       0.46      0.38      0.41        16\n",
      "           6       0.71      0.75      0.73        16\n",
      "           7       0.45      0.56      0.50        16\n",
      "           8       0.80      0.75      0.77        16\n",
      "           9       1.00      0.81      0.90        16\n",
      "          10       0.44      0.69      0.54        16\n",
      "          11       1.00      0.94      0.97        16\n",
      "          12       0.42      0.50      0.46        16\n",
      "          13       0.45      0.31      0.37        16\n",
      "\n",
      "    accuracy                           0.62       208\n",
      "   macro avg       0.63      0.62      0.62       208\n",
      "weighted avg       0.63      0.62      0.62       208\n",
      "\n"
     ]
    }
   ],
   "metadata": {}
  }
 ],
 "metadata": {
  "orig_nbformat": 4,
  "language_info": {
   "name": "python",
   "version": "3.9.7",
   "mimetype": "text/x-python",
   "codemirror_mode": {
    "name": "ipython",
    "version": 3
   },
   "pygments_lexer": "ipython3",
   "nbconvert_exporter": "python",
   "file_extension": ".py"
  },
  "kernelspec": {
   "name": "python3",
   "display_name": "Python 3.9.7 64-bit ('MachineLearning': conda)"
  },
  "interpreter": {
   "hash": "dc11a2329c49646b621f6d244584b5576d22d22f228ba50f5e49c7c6c5d009c8"
  }
 },
 "nbformat": 4,
 "nbformat_minor": 2
}