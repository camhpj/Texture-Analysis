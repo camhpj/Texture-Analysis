{
 "cells": [
  {
   "cell_type": "code",
   "execution_count": 5,
   "source": [
    "from scipy.io import loadmat\n",
    "import numpy as np\n",
    "\n",
    "#-Load mat file into numpy array.\n",
    "features = loadmat('MSCM Files/brodatzFeatures.mat')\n",
    "features = np.array(features['brodatzFeatures'])\n",
    "\n",
    "#-Features for r=1.\n",
    "X_r1_train = []\n",
    "for i in range(13):\n",
    "  for j in range(16):\n",
    "    X_r1_train.append(features[:, i, j, 0])\n",
    "\n",
    "print(len(X_r1_train))\n"
   ],
   "outputs": [
    {
     "output_type": "stream",
     "name": "stdout",
     "text": [
      "208\n"
     ]
    }
   ],
   "metadata": {}
  },
  {
   "cell_type": "code",
   "execution_count": 6,
   "source": [
    "#-Build list of true labels.\n",
    "Y_r1_train = []\n",
    "for i in range(1, 14):\n",
    "  for j in range(16):\n",
    "    Y_r1_train.append(i)\n",
    "print(Y_r1_train)"
   ],
   "outputs": [
    {
     "output_type": "stream",
     "name": "stdout",
     "text": [
      "[1, 1, 1, 1, 1, 1, 1, 1, 1, 1, 1, 1, 1, 1, 1, 1, 2, 2, 2, 2, 2, 2, 2, 2, 2, 2, 2, 2, 2, 2, 2, 2, 3, 3, 3, 3, 3, 3, 3, 3, 3, 3, 3, 3, 3, 3, 3, 3, 4, 4, 4, 4, 4, 4, 4, 4, 4, 4, 4, 4, 4, 4, 4, 4, 5, 5, 5, 5, 5, 5, 5, 5, 5, 5, 5, 5, 5, 5, 5, 5, 6, 6, 6, 6, 6, 6, 6, 6, 6, 6, 6, 6, 6, 6, 6, 6, 7, 7, 7, 7, 7, 7, 7, 7, 7, 7, 7, 7, 7, 7, 7, 7, 8, 8, 8, 8, 8, 8, 8, 8, 8, 8, 8, 8, 8, 8, 8, 8, 9, 9, 9, 9, 9, 9, 9, 9, 9, 9, 9, 9, 9, 9, 9, 9, 10, 10, 10, 10, 10, 10, 10, 10, 10, 10, 10, 10, 10, 10, 10, 10, 11, 11, 11, 11, 11, 11, 11, 11, 11, 11, 11, 11, 11, 11, 11, 11, 12, 12, 12, 12, 12, 12, 12, 12, 12, 12, 12, 12, 12, 12, 12, 12, 13, 13, 13, 13, 13, 13, 13, 13, 13, 13, 13, 13, 13, 13, 13, 13]\n"
     ]
    }
   ],
   "metadata": {}
  },
  {
   "cell_type": "code",
   "execution_count": 7,
   "source": [
    "from sklearn.neighbors import KNeighborsClassifier\n",
    "from sklearn.metrics import classification_report\n",
    "\n",
    "neighbors = 1\n",
    "\n",
    "#-Create K-Nearest Neighbors classifier.\n",
    "clf = KNeighborsClassifier(n_neighbors=neighbors)\n",
    "\n",
    "#-Fit data to classifier.\n",
    "clf.fit(X_r1_train, Y_r1_train)"
   ],
   "outputs": [
    {
     "output_type": "execute_result",
     "data": {
      "text/plain": [
       "KNeighborsClassifier(n_neighbors=1)"
      ]
     },
     "metadata": {},
     "execution_count": 7
    }
   ],
   "metadata": {}
  }
 ],
 "metadata": {
  "orig_nbformat": 4,
  "language_info": {
   "name": "python",
   "version": "3.9.7",
   "mimetype": "text/x-python",
   "codemirror_mode": {
    "name": "ipython",
    "version": 3
   },
   "pygments_lexer": "ipython3",
   "nbconvert_exporter": "python",
   "file_extension": ".py"
  },
  "kernelspec": {
   "name": "python3",
   "display_name": "Python 3.9.7 64-bit ('MachineLearning': conda)"
  },
  "interpreter": {
   "hash": "dc11a2329c49646b621f6d244584b5576d22d22f228ba50f5e49c7c6c5d009c8"
  }
 },
 "nbformat": 4,
 "nbformat_minor": 2
}