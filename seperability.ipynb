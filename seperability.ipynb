{
 "cells": [
  {
   "cell_type": "code",
   "execution_count": 8,
   "source": [
    "import numpy as np\n",
    "from scipy.io import loadmat\n",
    "from bokeh.plotting import figure, show\n",
    "\n",
    "features = np.array(loadmat('MSCM Files/brodatz-features-train.mat')['brodatzFeatures_train'])\n",
    "\n",
    "contrast_t1 = features[0, 0, :, 0]\n",
    "correlation_t1 = features[1, 0, :, 0]\n",
    "print(contrast_t1.shape)\n",
    "print(correlation_t1.shape)\n",
    "\n",
    "contrast_t2 = features[0, 2, :, 0]\n",
    "correlation_t2 = features[1, 2, :, 0]\n",
    "print(contrast_t2.shape)\n",
    "print(correlation_t2.shape)\n",
    "\n",
    "p = figure(width=400, height=400)\n",
    "p.circle(contrast_t1, correlation_t1, size=5, color=\"blue\")\n",
    "p.circle(contrast_t2, correlation_t2, size=5, color=\"red\")\n",
    "show(p)\n"
   ],
   "outputs": [
    {
     "output_type": "stream",
     "name": "stdout",
     "text": [
      "(16,)\n",
      "(16,)\n",
      "(16,)\n",
      "(16,)\n"
     ]
    }
   ],
   "metadata": {}
  }
 ],
 "metadata": {
  "orig_nbformat": 4,
  "language_info": {
   "name": "python",
   "version": "3.9.7",
   "mimetype": "text/x-python",
   "codemirror_mode": {
    "name": "ipython",
    "version": 3
   },
   "pygments_lexer": "ipython3",
   "nbconvert_exporter": "python",
   "file_extension": ".py"
  },
  "kernelspec": {
   "name": "python3",
   "display_name": "Python 3.9.7 64-bit ('MachineLearning': conda)"
  },
  "interpreter": {
   "hash": "dc11a2329c49646b621f6d244584b5576d22d22f228ba50f5e49c7c6c5d009c8"
  }
 },
 "nbformat": 4,
 "nbformat_minor": 2
}