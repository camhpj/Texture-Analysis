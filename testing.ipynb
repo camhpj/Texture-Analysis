{
 "cells": [
  {
   "cell_type": "code",
   "execution_count": 2,
   "metadata": {},
   "outputs": [
    {
     "name": "stdout",
     "output_type": "stream",
     "text": [
      "[[False  True  True  True False]\n",
      " [ True False False False  True]\n",
      " [False False False False  True]\n",
      " [False False False False False]\n",
      " [False False False False False]]\n"
     ]
    }
   ],
   "source": [
    "import numpy as np\n",
    "\n",
    "r=3\n",
    "circleWidth = (2 * r) + 1\n",
    "[X, Y] = np.meshgrid(np.arange(1, (circleWidth + 1)), np.arange(1, (circleWidth + 1)))\n",
    "distFromCenter = np.sqrt(np.power(X - (r + 1), 2) + np.power(Y - (r + 1), 2))\n",
    "onPixels = np.abs(distFromCenter - r) < 0.5\n",
    "f = Y - (r+1)\n",
    "onPixels[f>0] = 0\n",
    "onPixels[r, 0] = 0\n",
    "print(onPixels)"
   ]
  },
  {
   "cell_type": "code",
   "execution_count": null,
   "metadata": {},
   "outputs": [],
   "source": []
  }
 ],
 "metadata": {
  "interpreter": {
   "hash": "5bc59f2ffe5041f643da75ed3297d880aff633743b87c18483140ea2ca73ecb7"
  },
  "kernelspec": {
   "display_name": "Python 3.9.7 64-bit ('MachineLearning': conda)",
   "language": "python",
   "name": "python3"
  },
  "language_info": {
   "codemirror_mode": {
    "name": "ipython",
    "version": 3
   },
   "file_extension": ".py",
   "mimetype": "text/x-python",
   "name": "python",
   "nbconvert_exporter": "python",
   "pygments_lexer": "ipython3",
   "version": "3.9.7"
  },
  "orig_nbformat": 4
 },
 "nbformat": 4,
 "nbformat_minor": 2
}
